{
  "cells": [
    {
      "cell_type": "markdown",
      "metadata": {
        "id": "view-in-github",
        "colab_type": "text"
      },
      "source": [
        "<a href=\"https://colab.research.google.com/github/Tlentz14/Spoon-Knife/blob/main/CAPM_tyler_lentz.ipynb\" target=\"_parent\"><img src=\"https://colab.research.google.com/assets/colab-badge.svg\" alt=\"Open In Colab\"/></a>"
      ]
    },
    {
      "cell_type": "markdown",
      "metadata": {
        "id": "VSZRo9AX5XEb"
      },
      "source": [
        "## Capital Asset Pricing Model (CAPM)\n",
        "### Review Functions, Numpy\n",
        "\n",
        "\n",
        "### University of Virginia\n",
        "### Programming for Data Science\n",
        "---"
      ]
    },
    {
      "cell_type": "markdown",
      "metadata": {
        "id": "3ICSx5nM5XEd"
      },
      "source": [
        "### Objectives:\n",
        "- Use numpy and functions to compute a stock's CAPM beta\n",
        "- Perform sensitivity analysis to understand how the data points impact the beta estimate\n",
        "\n",
        "### Background\n",
        "\n",
        "\n",
        "In finance, CAPM is a single-factor regression model used for explaining and predicting excess stock returns. There are better, more accurate models, but it has its uses. For example, the *market beta* is a useful output.\n",
        "\n",
        "\n",
        "Here is the formula for calculating the expected excess return:\n",
        "\n",
        "![](image.png)\n",
        "\n",
        "#### Review the instructions below to complete the requested tasks.\n",
        "\n",
        "#### TOTAL POINTS: 10\n",
        "---  \n"
      ]
    },
    {
      "cell_type": "markdown",
      "metadata": {
        "id": "Y7vO3gXx5XEd"
      },
      "source": []
    },
    {
      "cell_type": "code",
      "execution_count": null,
      "metadata": {
        "id": "EiXZTKha5XEd"
      },
      "outputs": [],
      "source": [
        "# load modules\n",
        "import numpy as np\n",
        "import pandas as pd\n",
        "\n",
        "# risk-free Treasury rate\n",
        "R_f = 0.0175 / 252"
      ]
    },
    {
      "cell_type": "code",
      "execution_count": null,
      "metadata": {
        "id": "D1NlmVjP5XEe"
      },
      "outputs": [],
      "source": [
        "# read in the market data\n",
        "data = pd.read_csv('capm_market_data.csv')"
      ]
    },
    {
      "cell_type": "markdown",
      "metadata": {
        "id": "UnL813RU5XEe"
      },
      "source": [
        "Look at some records  \n",
        "SPY is an ETF for the S&P 500 (the \"stock market\")  \n",
        "AAPL is Apple  \n",
        "The values are closing prices, adjusted for splits and dividends"
      ]
    },
    {
      "cell_type": "code",
      "execution_count": null,
      "metadata": {
        "colab": {
          "base_uri": "https://localhost:8080/"
        },
        "id": "oW4fD8vB5XEe",
        "outputId": "93f340a6-1703-495a-cd37-1806e658f96a"
      },
      "outputs": [
        {
          "output_type": "stream",
          "name": "stdout",
          "text": [
            "           date  spy_adj_close  aapl_adj_close\n",
            "0    2020-01-02     321.555786      298.829956\n",
            "1    2020-01-03     319.120911      295.924713\n",
            "2    2020-01-06     320.338379      298.282715\n",
            "3    2020-01-07     319.437653      296.879883\n",
            "4    2020-01-08     321.140106      301.655548\n",
            "..          ...            ...             ...\n",
            "130  2020-07-09     314.380005      383.010010\n",
            "131  2020-07-10     317.589996      383.679993\n",
            "132  2020-07-13     314.839996      381.910004\n",
            "133  2020-07-14     318.920013      388.230011\n",
            "134  2020-07-15     321.850006      390.899994\n",
            "\n",
            "[135 rows x 3 columns]\n"
          ]
        }
      ],
      "source": [
        "print(data)"
      ]
    },
    {
      "cell_type": "markdown",
      "metadata": {
        "id": "EuDmVqta5XEf"
      },
      "source": [
        "Drop the date column"
      ]
    },
    {
      "cell_type": "code",
      "execution_count": null,
      "metadata": {
        "id": "DfT4hHkm5XEf"
      },
      "outputs": [],
      "source": [
        "data = data.drop(['date'], axis=1)"
      ]
    },
    {
      "cell_type": "markdown",
      "metadata": {
        "id": "OByMsbOz5XEf"
      },
      "source": [
        "Compute daily returns (percentage changes in price) for SPY, AAPL  \n",
        "Be sure to drop the first row of NaN  \n",
        "Hint: pandas has functions to easily do this"
      ]
    },
    {
      "cell_type": "code",
      "execution_count": null,
      "metadata": {
        "colab": {
          "base_uri": "https://localhost:8080/"
        },
        "id": "sBkpiY7T5XEf",
        "outputId": "9453668b-43ff-4fe0-cb19-dcd2e76f4eb0"
      },
      "outputs": [
        {
          "output_type": "stream",
          "name": "stderr",
          "text": [
            "<ipython-input-5-dca734afcd0e>:3: FutureWarning: In a future version of pandas all arguments of DataFrame.drop except for the argument 'labels' will be keyword-only.\n",
            "  data = data.drop(0,0)\n"
          ]
        }
      ],
      "source": [
        "data['spy_daily_returns'] = data['spy_adj_close'].pct_change() * 100\n",
        "data['aapl_daily_returns'] = data['aapl_adj_close'].pct_change() * 100\n",
        "data = data.drop(0,0)"
      ]
    },
    {
      "cell_type": "markdown",
      "metadata": {
        "id": "ffowRhCt5XEf"
      },
      "source": [
        "#### 1. (1 PT) Print the first 5 rows of returns"
      ]
    },
    {
      "cell_type": "code",
      "execution_count": null,
      "metadata": {
        "colab": {
          "base_uri": "https://localhost:8080/",
          "height": 206
        },
        "id": "K3C4lyoT5XEf",
        "outputId": "ed41c812-9386-4c02-ffd4-4df9edf1cbef"
      },
      "outputs": [
        {
          "output_type": "execute_result",
          "data": {
            "text/plain": [
              "   spy_adj_close  aapl_adj_close  spy_daily_returns  aapl_daily_returns\n",
              "1     319.120911      295.924713          -0.757217           -0.972206\n",
              "2     320.338379      298.282715           0.381507            0.796825\n",
              "3     319.437653      296.879883          -0.281180           -0.470303\n",
              "4     321.140106      301.655548           0.532953            1.608619\n",
              "5     323.317627      308.062988           0.678059            2.124092"
            ],
            "text/html": [
              "\n",
              "  <div id=\"df-8e48ba5d-b94a-4ba6-bf77-53e7a4661995\" class=\"colab-df-container\">\n",
              "    <div>\n",
              "<style scoped>\n",
              "    .dataframe tbody tr th:only-of-type {\n",
              "        vertical-align: middle;\n",
              "    }\n",
              "\n",
              "    .dataframe tbody tr th {\n",
              "        vertical-align: top;\n",
              "    }\n",
              "\n",
              "    .dataframe thead th {\n",
              "        text-align: right;\n",
              "    }\n",
              "</style>\n",
              "<table border=\"1\" class=\"dataframe\">\n",
              "  <thead>\n",
              "    <tr style=\"text-align: right;\">\n",
              "      <th></th>\n",
              "      <th>spy_adj_close</th>\n",
              "      <th>aapl_adj_close</th>\n",
              "      <th>spy_daily_returns</th>\n",
              "      <th>aapl_daily_returns</th>\n",
              "    </tr>\n",
              "  </thead>\n",
              "  <tbody>\n",
              "    <tr>\n",
              "      <th>1</th>\n",
              "      <td>319.120911</td>\n",
              "      <td>295.924713</td>\n",
              "      <td>-0.757217</td>\n",
              "      <td>-0.972206</td>\n",
              "    </tr>\n",
              "    <tr>\n",
              "      <th>2</th>\n",
              "      <td>320.338379</td>\n",
              "      <td>298.282715</td>\n",
              "      <td>0.381507</td>\n",
              "      <td>0.796825</td>\n",
              "    </tr>\n",
              "    <tr>\n",
              "      <th>3</th>\n",
              "      <td>319.437653</td>\n",
              "      <td>296.879883</td>\n",
              "      <td>-0.281180</td>\n",
              "      <td>-0.470303</td>\n",
              "    </tr>\n",
              "    <tr>\n",
              "      <th>4</th>\n",
              "      <td>321.140106</td>\n",
              "      <td>301.655548</td>\n",
              "      <td>0.532953</td>\n",
              "      <td>1.608619</td>\n",
              "    </tr>\n",
              "    <tr>\n",
              "      <th>5</th>\n",
              "      <td>323.317627</td>\n",
              "      <td>308.062988</td>\n",
              "      <td>0.678059</td>\n",
              "      <td>2.124092</td>\n",
              "    </tr>\n",
              "  </tbody>\n",
              "</table>\n",
              "</div>\n",
              "    <div class=\"colab-df-buttons\">\n",
              "\n",
              "  <div class=\"colab-df-container\">\n",
              "    <button class=\"colab-df-convert\" onclick=\"convertToInteractive('df-8e48ba5d-b94a-4ba6-bf77-53e7a4661995')\"\n",
              "            title=\"Convert this dataframe to an interactive table.\"\n",
              "            style=\"display:none;\">\n",
              "\n",
              "  <svg xmlns=\"http://www.w3.org/2000/svg\" height=\"24px\" viewBox=\"0 -960 960 960\">\n",
              "    <path d=\"M120-120v-720h720v720H120Zm60-500h600v-160H180v160Zm220 220h160v-160H400v160Zm0 220h160v-160H400v160ZM180-400h160v-160H180v160Zm440 0h160v-160H620v160ZM180-180h160v-160H180v160Zm440 0h160v-160H620v160Z\"/>\n",
              "  </svg>\n",
              "    </button>\n",
              "\n",
              "  <style>\n",
              "    .colab-df-container {\n",
              "      display:flex;\n",
              "      gap: 12px;\n",
              "    }\n",
              "\n",
              "    .colab-df-convert {\n",
              "      background-color: #E8F0FE;\n",
              "      border: none;\n",
              "      border-radius: 50%;\n",
              "      cursor: pointer;\n",
              "      display: none;\n",
              "      fill: #1967D2;\n",
              "      height: 32px;\n",
              "      padding: 0 0 0 0;\n",
              "      width: 32px;\n",
              "    }\n",
              "\n",
              "    .colab-df-convert:hover {\n",
              "      background-color: #E2EBFA;\n",
              "      box-shadow: 0px 1px 2px rgba(60, 64, 67, 0.3), 0px 1px 3px 1px rgba(60, 64, 67, 0.15);\n",
              "      fill: #174EA6;\n",
              "    }\n",
              "\n",
              "    .colab-df-buttons div {\n",
              "      margin-bottom: 4px;\n",
              "    }\n",
              "\n",
              "    [theme=dark] .colab-df-convert {\n",
              "      background-color: #3B4455;\n",
              "      fill: #D2E3FC;\n",
              "    }\n",
              "\n",
              "    [theme=dark] .colab-df-convert:hover {\n",
              "      background-color: #434B5C;\n",
              "      box-shadow: 0px 1px 3px 1px rgba(0, 0, 0, 0.15);\n",
              "      filter: drop-shadow(0px 1px 2px rgba(0, 0, 0, 0.3));\n",
              "      fill: #FFFFFF;\n",
              "    }\n",
              "  </style>\n",
              "\n",
              "    <script>\n",
              "      const buttonEl =\n",
              "        document.querySelector('#df-8e48ba5d-b94a-4ba6-bf77-53e7a4661995 button.colab-df-convert');\n",
              "      buttonEl.style.display =\n",
              "        google.colab.kernel.accessAllowed ? 'block' : 'none';\n",
              "\n",
              "      async function convertToInteractive(key) {\n",
              "        const element = document.querySelector('#df-8e48ba5d-b94a-4ba6-bf77-53e7a4661995');\n",
              "        const dataTable =\n",
              "          await google.colab.kernel.invokeFunction('convertToInteractive',\n",
              "                                                    [key], {});\n",
              "        if (!dataTable) return;\n",
              "\n",
              "        const docLinkHtml = 'Like what you see? Visit the ' +\n",
              "          '<a target=\"_blank\" href=https://colab.research.google.com/notebooks/data_table.ipynb>data table notebook</a>'\n",
              "          + ' to learn more about interactive tables.';\n",
              "        element.innerHTML = '';\n",
              "        dataTable['output_type'] = 'display_data';\n",
              "        await google.colab.output.renderOutput(dataTable, element);\n",
              "        const docLink = document.createElement('div');\n",
              "        docLink.innerHTML = docLinkHtml;\n",
              "        element.appendChild(docLink);\n",
              "      }\n",
              "    </script>\n",
              "  </div>\n",
              "\n",
              "\n",
              "<div id=\"df-39d03a13-865e-4251-b73c-6faa605c3665\">\n",
              "  <button class=\"colab-df-quickchart\" onclick=\"quickchart('df-39d03a13-865e-4251-b73c-6faa605c3665')\"\n",
              "            title=\"Suggest charts\"\n",
              "            style=\"display:none;\">\n",
              "\n",
              "<svg xmlns=\"http://www.w3.org/2000/svg\" height=\"24px\"viewBox=\"0 0 24 24\"\n",
              "     width=\"24px\">\n",
              "    <g>\n",
              "        <path d=\"M19 3H5c-1.1 0-2 .9-2 2v14c0 1.1.9 2 2 2h14c1.1 0 2-.9 2-2V5c0-1.1-.9-2-2-2zM9 17H7v-7h2v7zm4 0h-2V7h2v10zm4 0h-2v-4h2v4z\"/>\n",
              "    </g>\n",
              "</svg>\n",
              "  </button>\n",
              "\n",
              "<style>\n",
              "  .colab-df-quickchart {\n",
              "      --bg-color: #E8F0FE;\n",
              "      --fill-color: #1967D2;\n",
              "      --hover-bg-color: #E2EBFA;\n",
              "      --hover-fill-color: #174EA6;\n",
              "      --disabled-fill-color: #AAA;\n",
              "      --disabled-bg-color: #DDD;\n",
              "  }\n",
              "\n",
              "  [theme=dark] .colab-df-quickchart {\n",
              "      --bg-color: #3B4455;\n",
              "      --fill-color: #D2E3FC;\n",
              "      --hover-bg-color: #434B5C;\n",
              "      --hover-fill-color: #FFFFFF;\n",
              "      --disabled-bg-color: #3B4455;\n",
              "      --disabled-fill-color: #666;\n",
              "  }\n",
              "\n",
              "  .colab-df-quickchart {\n",
              "    background-color: var(--bg-color);\n",
              "    border: none;\n",
              "    border-radius: 50%;\n",
              "    cursor: pointer;\n",
              "    display: none;\n",
              "    fill: var(--fill-color);\n",
              "    height: 32px;\n",
              "    padding: 0;\n",
              "    width: 32px;\n",
              "  }\n",
              "\n",
              "  .colab-df-quickchart:hover {\n",
              "    background-color: var(--hover-bg-color);\n",
              "    box-shadow: 0 1px 2px rgba(60, 64, 67, 0.3), 0 1px 3px 1px rgba(60, 64, 67, 0.15);\n",
              "    fill: var(--button-hover-fill-color);\n",
              "  }\n",
              "\n",
              "  .colab-df-quickchart-complete:disabled,\n",
              "  .colab-df-quickchart-complete:disabled:hover {\n",
              "    background-color: var(--disabled-bg-color);\n",
              "    fill: var(--disabled-fill-color);\n",
              "    box-shadow: none;\n",
              "  }\n",
              "\n",
              "  .colab-df-spinner {\n",
              "    border: 2px solid var(--fill-color);\n",
              "    border-color: transparent;\n",
              "    border-bottom-color: var(--fill-color);\n",
              "    animation:\n",
              "      spin 1s steps(1) infinite;\n",
              "  }\n",
              "\n",
              "  @keyframes spin {\n",
              "    0% {\n",
              "      border-color: transparent;\n",
              "      border-bottom-color: var(--fill-color);\n",
              "      border-left-color: var(--fill-color);\n",
              "    }\n",
              "    20% {\n",
              "      border-color: transparent;\n",
              "      border-left-color: var(--fill-color);\n",
              "      border-top-color: var(--fill-color);\n",
              "    }\n",
              "    30% {\n",
              "      border-color: transparent;\n",
              "      border-left-color: var(--fill-color);\n",
              "      border-top-color: var(--fill-color);\n",
              "      border-right-color: var(--fill-color);\n",
              "    }\n",
              "    40% {\n",
              "      border-color: transparent;\n",
              "      border-right-color: var(--fill-color);\n",
              "      border-top-color: var(--fill-color);\n",
              "    }\n",
              "    60% {\n",
              "      border-color: transparent;\n",
              "      border-right-color: var(--fill-color);\n",
              "    }\n",
              "    80% {\n",
              "      border-color: transparent;\n",
              "      border-right-color: var(--fill-color);\n",
              "      border-bottom-color: var(--fill-color);\n",
              "    }\n",
              "    90% {\n",
              "      border-color: transparent;\n",
              "      border-bottom-color: var(--fill-color);\n",
              "    }\n",
              "  }\n",
              "</style>\n",
              "\n",
              "  <script>\n",
              "    async function quickchart(key) {\n",
              "      const quickchartButtonEl =\n",
              "        document.querySelector('#' + key + ' button');\n",
              "      quickchartButtonEl.disabled = true;  // To prevent multiple clicks.\n",
              "      quickchartButtonEl.classList.add('colab-df-spinner');\n",
              "      try {\n",
              "        const charts = await google.colab.kernel.invokeFunction(\n",
              "            'suggestCharts', [key], {});\n",
              "      } catch (error) {\n",
              "        console.error('Error during call to suggestCharts:', error);\n",
              "      }\n",
              "      quickchartButtonEl.classList.remove('colab-df-spinner');\n",
              "      quickchartButtonEl.classList.add('colab-df-quickchart-complete');\n",
              "    }\n",
              "    (() => {\n",
              "      let quickchartButtonEl =\n",
              "        document.querySelector('#df-39d03a13-865e-4251-b73c-6faa605c3665 button');\n",
              "      quickchartButtonEl.style.display =\n",
              "        google.colab.kernel.accessAllowed ? 'block' : 'none';\n",
              "    })();\n",
              "  </script>\n",
              "</div>\n",
              "    </div>\n",
              "  </div>\n"
            ]
          },
          "metadata": {},
          "execution_count": 6
        }
      ],
      "source": [
        "data.head(5)"
      ]
    },
    {
      "cell_type": "markdown",
      "metadata": {
        "id": "NVx-E6zu5XEf"
      },
      "source": [
        "Save AAPL, SPY returns into separate numpy arrays  \n",
        "#### 2. (1 PT) Print the first five values from the SPY numpy array, and the AAPL numpy array"
      ]
    },
    {
      "cell_type": "code",
      "execution_count": null,
      "metadata": {
        "colab": {
          "base_uri": "https://localhost:8080/"
        },
        "id": "jj_SF8hB5XEf",
        "outputId": "94102468-ad00-462a-daf3-c79777a181fb"
      },
      "outputs": [
        {
          "output_type": "stream",
          "name": "stdout",
          "text": [
            "[-0.75721713  0.38150689 -0.28117965  0.53295333  0.67805942]\n",
            "[-0.97220605  0.79682487 -0.47030282  1.60861869  2.12409161]\n"
          ]
        }
      ],
      "source": [
        "spy_returns = data['spy_daily_returns']\n",
        "aapl_returns = data['aapl_daily_returns']\n",
        "print(np.array(spy_returns[:5]))\n",
        "print(np.array(aapl_returns[:5]))"
      ]
    },
    {
      "cell_type": "markdown",
      "metadata": {
        "id": "ZtfUM_505XEf"
      },
      "source": [
        "##### Compute the excess returns of AAPL, SPY by simply subtracting the constant *R_f* from the returns.\n",
        "##### Specifically, for the numpy array containing AAPL returns, subtract *R_f* from each of the returns. Repeat for SPY returns.\n",
        "\n",
        "NOTE:  \n",
        "AAPL - *R_f* = excess return of Apple stock  \n",
        "SPY - *R_f* = excess return of stock market\n"
      ]
    },
    {
      "cell_type": "code",
      "execution_count": null,
      "metadata": {
        "colab": {
          "base_uri": "https://localhost:8080/"
        },
        "id": "hvpwZC-x5XEf",
        "outputId": "351358cc-488a-4e8e-b8dc-07eb7847cdc0"
      },
      "outputs": [
        {
          "output_type": "stream",
          "name": "stdout",
          "text": [
            "[-7.57286572e-01  3.81437446e-01 -2.81249090e-01  5.32883888e-01\n",
            "  6.77989979e-01 -2.87842162e-01  6.87672983e-01 -1.52533047e-01\n",
            "  2.25910319e-01  8.31774846e-01  3.11186578e-01 -1.95882853e-01\n",
            "  1.20009604e-02  1.14618130e-01 -8.89378698e-01 -1.60300747e+00\n",
            "  1.04784118e+00 -8.26744973e-02  3.24469218e-01 -1.81585978e+00\n",
            "  7.42783936e-01  1.52406179e+00  1.15473408e+00  3.36410581e-01\n",
            " -5.33035380e-01  7.46463103e-01  1.73234538e-01  6.44208272e-01\n",
            " -1.06769284e-01  1.60146697e-01 -2.57776971e-01  4.78065052e-01\n",
            " -4.10900033e-01 -1.02989594e+00 -3.31660204e+00 -3.03029365e+00\n",
            " -3.67885310e-01 -4.49124453e+00 -4.20211560e-01  4.33056952e+00\n",
            " -2.86330967e+00  4.20322987e+00 -3.32423408e+00 -1.65318501e+00\n",
            " -7.80951108e+00  5.17442550e+00 -4.87492530e+00 -9.56778036e+00\n",
            "  8.54855703e+00 -1.09424421e+01  5.39913702e+00 -5.06336004e+00\n",
            "  2.12421634e-01 -4.30948309e+00 -2.55688844e+00  9.06025714e+00\n",
            "  1.49694334e+00  5.83890842e+00 -2.97862886e+00  3.24750267e+00\n",
            " -1.49060684e+00 -4.50056106e+00  2.30746941e+00 -1.44548366e+00\n",
            "  6.71654870e+00  1.01875872e-01  3.35676909e+00  1.52167428e+00\n",
            " -9.13091950e-01  2.94921997e+00 -2.12487643e+00  4.82364272e-01\n",
            "  2.70146853e+00 -1.76186770e+00 -3.03638907e+00  2.21938466e+00\n",
            " -7.25193235e-03  1.39380673e+00  1.44177205e+00 -4.59906304e-01\n",
            "  2.61777822e+00 -9.31135397e-01 -2.64741274e+00  2.75752961e-01\n",
            "  9.23864472e-01 -6.77947177e-01  1.20661692e+00  1.65454357e+00\n",
            "  2.04531824e-02 -1.99322711e+00 -1.76865471e+00  1.19665973e+00\n",
            "  4.59627974e-01  3.04589884e+00 -1.02718773e+00  1.69873320e+00\n",
            " -6.90466942e-01  1.89841611e-01  1.23198143e+00  1.48782963e+00\n",
            " -1.84558322e-01  4.45519360e-01  4.04099742e-01  8.27947503e-01\n",
            "  1.33075202e+00 -2.62738086e-01  2.56289040e+00  1.20867053e+00\n",
            " -7.45738848e-01 -5.58069412e-01 -5.76495669e+00  1.19749590e+00\n",
            "  9.33492235e-01  1.92469455e+00 -4.15450543e-01  3.84347213e-02\n",
            " -5.71560037e-01  6.41448303e-01  4.60297788e-01 -2.55094006e+00\n",
            "  1.07198482e+00 -2.37521770e+00  1.46968688e+00  1.28088503e+00\n",
            "  7.00411735e-01  5.50626818e-01  1.54365686e+00 -1.03144908e+00\n",
            "  7.64795718e-01 -5.69361567e-01  1.02098514e+00 -8.65965736e-01\n",
            "  1.29583233e+00  9.18653920e-01]\n",
            "[-9.72275497e-01  7.96755425e-01 -4.70372268e-01  1.60854925e+00\n",
            "  2.12402216e+00  2.25991835e-01  2.13637274e+00 -1.35039514e+00\n",
            " -4.28623608e-01  1.25257615e+00  1.10703778e+00 -6.77762142e-01\n",
            "  3.56887001e-01  4.81513933e-01 -2.88272601e-01 -2.94059689e+00\n",
            "  2.82886830e+00  2.09316243e+00 -1.44978958e-01 -4.43393741e+00\n",
            " -2.74698667e-01  3.30128729e+00  8.15374300e-01  1.16961946e+00\n",
            " -1.35933692e+00  4.74887031e-01 -6.03403728e-01  2.37471257e+00\n",
            " -7.12178449e-01  2.45617911e-02 -1.83112741e+00  1.44821163e+00\n",
            " -1.02597285e+00 -2.26356642e+00 -4.75011219e+00 -3.38728202e+00\n",
            "  1.58629032e+00 -6.53688284e+00 -5.85691469e-02  9.30999569e+00\n",
            " -3.17599253e+00  4.63838890e+00 -3.24377639e+00 -1.32807292e+00\n",
            " -7.90928038e+00  7.20208573e+00 -3.47311690e+00 -9.87553780e+00\n",
            "  1.19807556e+01 -1.28647643e+01  4.39694035e+00 -2.44806631e+00\n",
            " -7.66277468e-01 -6.34862107e+00 -2.12448916e+00  1.00324749e+01\n",
            " -5.50948422e-01  5.26223569e+00 -4.14030057e+00  2.85373103e+00\n",
            " -2.04144754e-01 -5.26177603e+00  1.66860042e+00 -1.43721512e+00\n",
            "  8.72367794e+00 -1.15829948e+00  2.55939823e+00  7.21536942e-01\n",
            "  1.96269764e+00  5.05024365e+00 -9.12798302e-01  7.94504781e-01\n",
            " -1.35694208e+00 -2.07574259e+00 -3.09110515e+00  2.88028446e+00\n",
            " -3.87609038e-01  2.88689366e+00  7.06104243e-02 -1.62101377e+00\n",
            "  3.28445861e+00  2.10953863e+00 -1.61000599e+00  1.41480949e+00\n",
            "  1.50081784e+00  1.03165342e+00  1.03442114e+00  2.38010432e+00\n",
            "  1.57346578e+00 -1.14289221e+00 -1.20748402e+00  6.14269800e-01\n",
            " -5.91274794e-01  2.35604514e+00 -5.77913252e-01  1.94474631e+00\n",
            " -7.45614914e-01  6.43771018e-01 -6.77420118e-01  4.35624780e-01\n",
            "  4.39450961e-02 -9.74763757e-02  1.22972348e+00  4.62876091e-01\n",
            "  5.50434298e-01 -8.61286175e-01  2.84802948e+00  5.91179863e-01\n",
            "  3.15773031e+00  2.57268161e+00 -4.80111315e+00  8.63280942e-01\n",
            "  1.23664915e+00  2.65015260e+00 -1.39239591e-01  3.97538298e-02\n",
            " -5.71533267e-01  2.61630762e+00  2.13440927e+00 -1.76527318e+00\n",
            "  1.32748674e+00 -3.07264689e+00  2.30459752e+00  8.34688979e-01\n",
            " -1.89214857e-01 -6.94444444e-05  2.67495215e+00 -3.10355293e-01\n",
            "  2.32894196e+00  4.29962983e-01  1.74856248e-01 -4.61388525e-01\n",
            "  1.65477260e+00  6.87662785e-01]\n"
          ]
        }
      ],
      "source": [
        "excess_spy = np.array(spy_returns - R_f)\n",
        "excess_aapl = np.array(aapl_returns - R_f)\n",
        "print(excess_spy)\n",
        "print(excess_aapl)"
      ]
    },
    {
      "cell_type": "markdown",
      "metadata": {
        "id": "mZz2DH3G5XEf"
      },
      "source": [
        "#### 3. (1 PT) Print the LAST five excess returns from both AAPL, SPY numpy arrays\n"
      ]
    },
    {
      "cell_type": "code",
      "execution_count": null,
      "metadata": {
        "colab": {
          "base_uri": "https://localhost:8080/"
        },
        "id": "9m1PIbcO5XEf",
        "outputId": "f151947a-6bd1-4e83-e24d-574b2c83e781"
      },
      "outputs": [
        {
          "output_type": "stream",
          "name": "stdout",
          "text": [
            "[-0.56936157  1.02098514 -0.86596574  1.29583233  0.91865392]\n",
            "[ 0.42996298  0.17485625 -0.46138852  1.6547726   0.68766279]\n"
          ]
        }
      ],
      "source": [
        "last_5_spy = np.array(excess_spy[-5:])\n",
        "last_5_aapl = np.array(excess_aapl[-5:])\n",
        "print(last_5_spy)\n",
        "print(last_5_aapl)"
      ]
    },
    {
      "cell_type": "markdown",
      "metadata": {
        "id": "G3iseVeg5XEf"
      },
      "source": [
        "#### 4. (1 PT) Make a scatterplot with SPY excess returns on x-axis, AAPL excess returns on y-axis####\n",
        "Matplotlib documentation: https://matplotlib.org/stable/api/_as_gen/matplotlib.pyplot.scatter.html"
      ]
    },
    {
      "cell_type": "code",
      "execution_count": null,
      "metadata": {
        "colab": {
          "base_uri": "https://localhost:8080/",
          "height": 490
        },
        "id": "dpEFlv9-5XEf",
        "outputId": "f6ad23b0-3d9d-4406-f6b9-1e54d3457b9a"
      },
      "outputs": [
        {
          "output_type": "execute_result",
          "data": {
            "text/plain": [
              "<function matplotlib.pyplot.show(close=None, block=None)>"
            ]
          },
          "metadata": {},
          "execution_count": 16
        },
        {
          "output_type": "display_data",
          "data": {
            "text/plain": [
              "<Figure size 640x480 with 1 Axes>"
            ],
            "image/png": "[encoded data removed]"
          },
          "metadata": {}
        }
      ],
      "source": [
        "import matplotlib.pyplot as plt\n",
        "plt.scatter(excess_spy,excess_aapl)\n",
        "plt.title(\"SPY vs AAPL Excess Returns\")\n",
        "plt.xlabel(\"SPY Excess Returns\")\n",
        "plt.ylabel(\"AAPL Excess Returns\")\n",
        "plt.grid()\n",
        "plt.show"
      ]
    },
    {
      "cell_type": "markdown",
      "metadata": {
        "id": "UzR2AWoM5XEg"
      },
      "source": [
        "#### 5. (3 PTS) Use Linear Algebra (matrices) to Compute the Regression Coefficient Estimate\n",
        "\n",
        "Hint 1: Here is the matrix formula where *x′* denotes transpose of *x*.\n",
        "\n",
        "\\begin{aligned} \\hat\\beta_i=(x′x)^{−1}x′y \\end{aligned}  "
      ]
    },
    {
      "cell_type": "markdown",
      "metadata": {
        "id": "ifprMbc75XEg"
      },
      "source": [
        "Hint 2: consider numpy functions for matrix multiplication, transpose, and inverse. Be sure to review what these operations do, and how they work, if you're a bit rusty."
      ]
    },
    {
      "cell_type": "code",
      "execution_count": null,
      "metadata": {
        "colab": {
          "base_uri": "https://localhost:8080/"
        },
        "id": "CW3MF8925XEg",
        "outputId": "c7ef44cb-9f80-4ff4-e35e-291d0c07ecfa"
      },
      "outputs": [
        {
          "output_type": "stream",
          "name": "stdout",
          "text": [
            "1.0885263856551692\n"
          ]
        }
      ],
      "source": [
        "x = excess_spy.reshape(-1,1)\n",
        "y = excess_aapl.reshape(-1,1)\n",
        "\n",
        "transpose_spy = np.transpose(x)\n",
        "mult_spy = np.matmul(transpose_spy, x)\n",
        "inverse_spy = 1/mult_spy\n",
        "\n",
        "mult_aapl = np.matmul(transpose_spy, y)\n",
        "beta = (inverse_spy * mult_aapl)[0,0]\n",
        "\n",
        "print(beta)"
      ]
    },
    {
      "cell_type": "markdown",
      "metadata": {
        "id": "FCaIudvJ5XEg"
      },
      "source": [
        "You should have found that the beta estimate is greater than one.  \n",
        "This means that the risk of AAPL stock, given the data, and according to this particular (flawed) model,  \n",
        "is higher relative to the risk of the S&P 500.\n"
      ]
    },
    {
      "cell_type": "markdown",
      "metadata": {
        "id": "0IWRRdWp5XEg"
      },
      "source": [
        "#### Measuring Beta Sensitivity to Dropping Observations (Jackknifing)"
      ]
    },
    {
      "cell_type": "markdown",
      "metadata": {
        "id": "vPXCGruY5XEg"
      },
      "source": [
        "Let's understand how sensitive the beta is to each data point.   \n",
        "We want to drop each data point (one at a time), compute \\\\(\\hat\\beta_i\\\\) using our formula from above, and save each measurement.\n",
        "\n",
        "#### 6. (3 PTS) Write a function called `beta_sensitivity()` with these specs:\n",
        "\n",
        "- take numpy arrays x and y as inputs\n",
        "- output a list of tuples. each tuple contains (observation row dropped, beta estimate)\n",
        "\n",
        "Hint: **np.delete(x, i).reshape(-1,1)** will delete observation i from array x, and make it a column vector"
      ]
    },
    {
      "cell_type": "code",
      "execution_count": null,
      "metadata": {
        "id": "HlAquzAE5XEg"
      },
      "outputs": [],
      "source": [
        "def beta_sensitivity(x, y):\n",
        "    out = []\n",
        "    for i in range(len(x)-1):\n",
        "        x_x = np.delete(x, i).reshape(-1, 1)\n",
        "        y_y = np.delete(y, i).reshape(-1, 1)\n",
        "\n",
        "        xx = excess_spy.reshape(-1,1)\n",
        "        yy = excess_aapl.reshape(-1,1)\n",
        "\n",
        "        transpose_spy = np.transpose(xx)\n",
        "        mult_spy = np.matmul(transpose_spy, xx)\n",
        "        inverse_spy = 1/mult_spy\n",
        "\n",
        "        mult_aapl = np.matmul(transpose_spy, yy)\n",
        "        beta = (inverse_spy * mult_aapl)[0,0]\n",
        "\n",
        "        out.append((i, beta))\n",
        "\n",
        "    return out\n"
      ]
    },
    {
      "cell_type": "markdown",
      "metadata": {
        "id": "BkvufxAw5XEg"
      },
      "source": [
        "#### Call `beta_sensitivity()` and print the first five tuples of output."
      ]
    },
    {
      "cell_type": "code",
      "execution_count": null,
      "metadata": {
        "colab": {
          "base_uri": "https://localhost:8080/"
        },
        "id": "T0w4fJXY5XEg",
        "outputId": "645c0e85-203f-4586-dc36-146f4df94346"
      },
      "outputs": [
        {
          "output_type": "execute_result",
          "data": {
            "text/plain": [
              "[(0, 1.0885263856551692),\n",
              " (1, 1.0885263856551692),\n",
              " (2, 1.0885263856551692),\n",
              " (3, 1.0885263856551692),\n",
              " (4, 1.0885263856551692)]"
            ]
          },
          "metadata": {},
          "execution_count": 27
        }
      ],
      "source": [
        "beta_sensitivity(excess_spy,excess_aapl)[:5]"
      ]
    },
    {
      "cell_type": "markdown",
      "metadata": {
        "id": "IYdtKjCk5XEg"
      },
      "source": [
        "**Submit html file on Canvas**"
      ]
    }
  ],
  "metadata": {
    "kernelspec": {
      "display_name": "Python 3.8.9 64-bit",
      "language": "python",
      "name": "python3"
    },
    "language_info": {
      "codemirror_mode": {
        "name": "ipython",
        "version": 3
      },
      "file_extension": ".py",
      "mimetype": "text/x-python",
      "name": "python",
      "nbconvert_exporter": "python",
      "pygments_lexer": "ipython3",
      "version": "3.8.9"
    },
    "vscode": {
      "interpreter": {
        "hash": "31f2aee4e71d21fbe5cf8b01ff0e069b9275f58929596ceb00d14d90e3e16cd6"
      }
    },
    "colab": {
      "provenance": [],
      "include_colab_link": true
    }
  },
  "nbformat": 4,
  "nbformat_minor": 0
}