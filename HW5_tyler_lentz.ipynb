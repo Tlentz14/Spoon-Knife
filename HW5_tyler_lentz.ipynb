{
  "cells": [
    {
      "cell_type": "markdown",
      "metadata": {
        "id": "view-in-github",
        "colab_type": "text"
      },
      "source": [
        "<a href=\"https://colab.research.google.com/github/Tlentz14/Spoon-Knife/blob/main/HW5_tyler_lentz.ipynb\" target=\"_parent\"><img src=\"https://colab.research.google.com/assets/colab-badge.svg\" alt=\"Open In Colab\"/></a>"
      ]
    },
    {
      "cell_type": "markdown",
      "metadata": {
        "id": "fAGF4sxMmFS2"
      },
      "source": [
        "### Homework 5: Pandas I\n",
        "\n",
        "**Objective:**   \n",
        "\n",
        "To practice using pandas for data manipulation and analysis.\n",
        "\n",
        "**Directions:**  \n",
        "\n",
        "Use *pandas functions* to complete the tasks listed below.\n",
        "\n",
        "Clearly show relevant work.  \n",
        "\n",
        "You will need to refer to pandas documentation, web sources, etc (this is planned!)\n",
        "\n",
        "If you are having trouble, keep track (e.g., code comments or markdown) of what you tried or how you were logically thinking about the problem.\n",
        "\n",
        "**Submission:**\n",
        "\n",
        "Submit the html export of your Juypter Notebook to Canvas.\n",
        "\n",
        "TOTAL POINTS: 20\n",
        "\n",
        "---"
      ]
    },
    {
      "cell_type": "code",
      "execution_count": 12,
      "metadata": {
        "id": "MeuRlquMmFS3"
      },
      "outputs": [],
      "source": [
        "# import pandas and seaborn\n",
        "import pandas as pd\n",
        "import seaborn as sns\n"
      ]
    },
    {
      "cell_type": "code",
      "execution_count": 13,
      "metadata": {
        "id": "CeEPDHSZmFS4"
      },
      "outputs": [],
      "source": [
        "taxis = sns.load_dataset('taxis')"
      ]
    },
    {
      "cell_type": "markdown",
      "metadata": {
        "id": "GXYyBFSEmFS4"
      },
      "source": [
        "---"
      ]
    },
    {
      "cell_type": "markdown",
      "metadata": {
        "id": "9oylzHaDmFS4"
      },
      "source": [
        "## Dataset Exploration  \n",
        "\n",
        "1. Explore the dataset using:\n",
        "* `.tail()`\n",
        "* `.info()`\n",
        "* `len()`\n",
        "* `.shape`\n",
        "* `.describe()`  \n",
        "\n",
        "After each code chunk insert a markdown chunk and describe what each of these is doing (1 sentence each)\n",
        "\n",
        "*10 points*\n"
      ]
    },
    {
      "cell_type": "code",
      "execution_count": 14,
      "metadata": {
        "id": "79rSN2IsmFS5",
        "outputId": "e7734ad0-9ffe-4f9c-d10e-f89e51b9148b",
        "colab": {
          "base_uri": "https://localhost:8080/",
          "height": 380
        }
      },
      "outputs": [
        {
          "output_type": "execute_result",
          "data": {
            "text/plain": [
              "                  pickup             dropoff  passengers  distance  fare  \\\n",
              "6428 2019-03-31 09:51:53 2019-03-31 09:55:27           1      0.75   4.5   \n",
              "6429 2019-03-31 17:38:00 2019-03-31 18:34:23           1     18.74  58.0   \n",
              "6430 2019-03-23 22:55:18 2019-03-23 23:14:25           1      4.14  16.0   \n",
              "6431 2019-03-04 10:09:25 2019-03-04 10:14:29           1      1.12   6.0   \n",
              "6432 2019-03-13 19:31:22 2019-03-13 19:48:02           1      3.85  15.0   \n",
              "\n",
              "       tip  tolls  total  color      payment          pickup_zone  \\\n",
              "6428  1.06    0.0   6.36  green  credit card    East Harlem North   \n",
              "6429  0.00    0.0  58.80  green  credit card              Jamaica   \n",
              "6430  0.00    0.0  17.30  green         cash  Crown Heights North   \n",
              "6431  0.00    0.0   6.80  green  credit card        East New York   \n",
              "6432  3.36    0.0  20.16  green  credit card          Boerum Hill   \n",
              "\n",
              "                          dropoff_zone pickup_borough dropoff_borough  \n",
              "6428              Central Harlem North      Manhattan       Manhattan  \n",
              "6429  East Concourse/Concourse Village         Queens           Bronx  \n",
              "6430                    Bushwick North       Brooklyn        Brooklyn  \n",
              "6431      East Flatbush/Remsen Village       Brooklyn        Brooklyn  \n",
              "6432                   Windsor Terrace       Brooklyn        Brooklyn  "
            ],
            "text/html": [
              "\n",
              "  <div id=\"df-9db9f1d4-52fc-4753-a044-bfcaa0b267af\" class=\"colab-df-container\">\n",
              "    <div>\n",
              "<style scoped>\n",
              "    .dataframe tbody tr th:only-of-type {\n",
              "        vertical-align: middle;\n",
              "    }\n",
              "\n",
              "    .dataframe tbody tr th {\n",
              "        vertical-align: top;\n",
              "    }\n",
              "\n",
              "    .dataframe thead th {\n",
              "        text-align: right;\n",
              "    }\n",
              "</style>\n",
              "<table border=\"1\" class=\"dataframe\">\n",
              "  <thead>\n",
              "    <tr style=\"text-align: right;\">\n",
              "      <th></th>\n",
              "      <th>pickup</th>\n",
              "      <th>dropoff</th>\n",
              "      <th>passengers</th>\n",
              "      <th>distance</th>\n",
              "      <th>fare</th>\n",
              "      <th>tip</th>\n",
              "      <th>tolls</th>\n",
              "      <th>total</th>\n",
              "      <th>color</th>\n",
              "      <th>payment</th>\n",
              "      <th>pickup_zone</th>\n",
              "      <th>dropoff_zone</th>\n",
              "      <th>pickup_borough</th>\n",
              "      <th>dropoff_borough</th>\n",
              "    </tr>\n",
              "  </thead>\n",
              "  <tbody>\n",
              "    <tr>\n",
              "      <th>6428</th>\n",
              "      <td>2019-03-31 09:51:53</td>\n",
              "      <td>2019-03-31 09:55:27</td>\n",
              "      <td>1</td>\n",
              "      <td>0.75</td>\n",
              "      <td>4.5</td>\n",
              "      <td>1.06</td>\n",
              "      <td>0.0</td>\n",
              "      <td>6.36</td>\n",
              "      <td>green</td>\n",
              "      <td>credit card</td>\n",
              "      <td>East Harlem North</td>\n",
              "      <td>Central Harlem North</td>\n",
              "      <td>Manhattan</td>\n",
              "      <td>Manhattan</td>\n",
              "    </tr>\n",
              "    <tr>\n",
              "      <th>6429</th>\n",
              "      <td>2019-03-31 17:38:00</td>\n",
              "      <td>2019-03-31 18:34:23</td>\n",
              "      <td>1</td>\n",
              "      <td>18.74</td>\n",
              "      <td>58.0</td>\n",
              "      <td>0.00</td>\n",
              "      <td>0.0</td>\n",
              "      <td>58.80</td>\n",
              "      <td>green</td>\n",
              "      <td>credit card</td>\n",
              "      <td>Jamaica</td>\n",
              "      <td>East Concourse/Concourse Village</td>\n",
              "      <td>Queens</td>\n",
              "      <td>Bronx</td>\n",
              "    </tr>\n",
              "    <tr>\n",
              "      <th>6430</th>\n",
              "      <td>2019-03-23 22:55:18</td>\n",
              "      <td>2019-03-23 23:14:25</td>\n",
              "      <td>1</td>\n",
              "      <td>4.14</td>\n",
              "      <td>16.0</td>\n",
              "      <td>0.00</td>\n",
              "      <td>0.0</td>\n",
              "      <td>17.30</td>\n",
              "      <td>green</td>\n",
              "      <td>cash</td>\n",
              "      <td>Crown Heights North</td>\n",
              "      <td>Bushwick North</td>\n",
              "      <td>Brooklyn</td>\n",
              "      <td>Brooklyn</td>\n",
              "    </tr>\n",
              "    <tr>\n",
              "      <th>6431</th>\n",
              "      <td>2019-03-04 10:09:25</td>\n",
              "      <td>2019-03-04 10:14:29</td>\n",
              "      <td>1</td>\n",
              "      <td>1.12</td>\n",
              "      <td>6.0</td>\n",
              "      <td>0.00</td>\n",
              "      <td>0.0</td>\n",
              "      <td>6.80</td>\n",
              "      <td>green</td>\n",
              "      <td>credit card</td>\n",
              "      <td>East New York</td>\n",
              "      <td>East Flatbush/Remsen Village</td>\n",
              "      <td>Brooklyn</td>\n",
              "      <td>Brooklyn</td>\n",
              "    </tr>\n",
              "    <tr>\n",
              "      <th>6432</th>\n",
              "      <td>2019-03-13 19:31:22</td>\n",
              "      <td>2019-03-13 19:48:02</td>\n",
              "      <td>1</td>\n",
              "      <td>3.85</td>\n",
              "      <td>15.0</td>\n",
              "      <td>3.36</td>\n",
              "      <td>0.0</td>\n",
              "      <td>20.16</td>\n",
              "      <td>green</td>\n",
              "      <td>credit card</td>\n",
              "      <td>Boerum Hill</td>\n",
              "      <td>Windsor Terrace</td>\n",
              "      <td>Brooklyn</td>\n",
              "      <td>Brooklyn</td>\n",
              "    </tr>\n",
              "  </tbody>\n",
              "</table>\n",
              "</div>\n",
              "    <div class=\"colab-df-buttons\">\n",
              "\n",
              "  <div class=\"colab-df-container\">\n",
              "    <button class=\"colab-df-convert\" onclick=\"convertToInteractive('df-9db9f1d4-52fc-4753-a044-bfcaa0b267af')\"\n",
              "            title=\"Convert this dataframe to an interactive table.\"\n",
              "            style=\"display:none;\">\n",
              "\n",
              "  <svg xmlns=\"http://www.w3.org/2000/svg\" height=\"24px\" viewBox=\"0 -960 960 960\">\n",
              "    <path d=\"M120-120v-720h720v720H120Zm60-500h600v-160H180v160Zm220 220h160v-160H400v160Zm0 220h160v-160H400v160ZM180-400h160v-160H180v160Zm440 0h160v-160H620v160ZM180-180h160v-160H180v160Zm440 0h160v-160H620v160Z\"/>\n",
              "  </svg>\n",
              "    </button>\n",
              "\n",
              "  <style>\n",
              "    .colab-df-container {\n",
              "      display:flex;\n",
              "      gap: 12px;\n",
              "    }\n",
              "\n",
              "    .colab-df-convert {\n",
              "      background-color: #E8F0FE;\n",
              "      border: none;\n",
              "      border-radius: 50%;\n",
              "      cursor: pointer;\n",
              "      display: none;\n",
              "      fill: #1967D2;\n",
              "      height: 32px;\n",
              "      padding: 0 0 0 0;\n",
              "      width: 32px;\n",
              "    }\n",
              "\n",
              "    .colab-df-convert:hover {\n",
              "      background-color: #E2EBFA;\n",
              "      box-shadow: 0px 1px 2px rgba(60, 64, 67, 0.3), 0px 1px 3px 1px rgba(60, 64, 67, 0.15);\n",
              "      fill: #174EA6;\n",
              "    }\n",
              "\n",
              "    .colab-df-buttons div {\n",
              "      margin-bottom: 4px;\n",
              "    }\n",
              "\n",
              "    [theme=dark] .colab-df-convert {\n",
              "      background-color: #3B4455;\n",
              "      fill: #D2E3FC;\n",
              "    }\n",
              "\n",
              "    [theme=dark] .colab-df-convert:hover {\n",
              "      background-color: #434B5C;\n",
              "      box-shadow: 0px 1px 3px 1px rgba(0, 0, 0, 0.15);\n",
              "      filter: drop-shadow(0px 1px 2px rgba(0, 0, 0, 0.3));\n",
              "      fill: #FFFFFF;\n",
              "    }\n",
              "  </style>\n",
              "\n",
              "    <script>\n",
              "      const buttonEl =\n",
              "        document.querySelector('#df-9db9f1d4-52fc-4753-a044-bfcaa0b267af button.colab-df-convert');\n",
              "      buttonEl.style.display =\n",
              "        google.colab.kernel.accessAllowed ? 'block' : 'none';\n",
              "\n",
              "      async function convertToInteractive(key) {\n",
              "        const element = document.querySelector('#df-9db9f1d4-52fc-4753-a044-bfcaa0b267af');\n",
              "        const dataTable =\n",
              "          await google.colab.kernel.invokeFunction('convertToInteractive',\n",
              "                                                    [key], {});\n",
              "        if (!dataTable) return;\n",
              "\n",
              "        const docLinkHtml = 'Like what you see? Visit the ' +\n",
              "          '<a target=\"_blank\" href=https://colab.research.google.com/notebooks/data_table.ipynb>data table notebook</a>'\n",
              "          + ' to learn more about interactive tables.';\n",
              "        element.innerHTML = '';\n",
              "        dataTable['output_type'] = 'display_data';\n",
              "        await google.colab.output.renderOutput(dataTable, element);\n",
              "        const docLink = document.createElement('div');\n",
              "        docLink.innerHTML = docLinkHtml;\n",
              "        element.appendChild(docLink);\n",
              "      }\n",
              "    </script>\n",
              "  </div>\n",
              "\n",
              "\n",
              "<div id=\"df-a67cda16-bf63-4be2-85b8-028eab46df85\">\n",
              "  <button class=\"colab-df-quickchart\" onclick=\"quickchart('df-a67cda16-bf63-4be2-85b8-028eab46df85')\"\n",
              "            title=\"Suggest charts.\"\n",
              "            style=\"display:none;\">\n",
              "\n",
              "<svg xmlns=\"http://www.w3.org/2000/svg\" height=\"24px\"viewBox=\"0 0 24 24\"\n",
              "     width=\"24px\">\n",
              "    <g>\n",
              "        <path d=\"M19 3H5c-1.1 0-2 .9-2 2v14c0 1.1.9 2 2 2h14c1.1 0 2-.9 2-2V5c0-1.1-.9-2-2-2zM9 17H7v-7h2v7zm4 0h-2V7h2v10zm4 0h-2v-4h2v4z\"/>\n",
              "    </g>\n",
              "</svg>\n",
              "  </button>\n",
              "\n",
              "<style>\n",
              "  .colab-df-quickchart {\n",
              "      --bg-color: #E8F0FE;\n",
              "      --fill-color: #1967D2;\n",
              "      --hover-bg-color: #E2EBFA;\n",
              "      --hover-fill-color: #174EA6;\n",
              "      --disabled-fill-color: #AAA;\n",
              "      --disabled-bg-color: #DDD;\n",
              "  }\n",
              "\n",
              "  [theme=dark] .colab-df-quickchart {\n",
              "      --bg-color: #3B4455;\n",
              "      --fill-color: #D2E3FC;\n",
              "      --hover-bg-color: #434B5C;\n",
              "      --hover-fill-color: #FFFFFF;\n",
              "      --disabled-bg-color: #3B4455;\n",
              "      --disabled-fill-color: #666;\n",
              "  }\n",
              "\n",
              "  .colab-df-quickchart {\n",
              "    background-color: var(--bg-color);\n",
              "    border: none;\n",
              "    border-radius: 50%;\n",
              "    cursor: pointer;\n",
              "    display: none;\n",
              "    fill: var(--fill-color);\n",
              "    height: 32px;\n",
              "    padding: 0;\n",
              "    width: 32px;\n",
              "  }\n",
              "\n",
              "  .colab-df-quickchart:hover {\n",
              "    background-color: var(--hover-bg-color);\n",
              "    box-shadow: 0 1px 2px rgba(60, 64, 67, 0.3), 0 1px 3px 1px rgba(60, 64, 67, 0.15);\n",
              "    fill: var(--button-hover-fill-color);\n",
              "  }\n",
              "\n",
              "  .colab-df-quickchart-complete:disabled,\n",
              "  .colab-df-quickchart-complete:disabled:hover {\n",
              "    background-color: var(--disabled-bg-color);\n",
              "    fill: var(--disabled-fill-color);\n",
              "    box-shadow: none;\n",
              "  }\n",
              "\n",
              "  .colab-df-spinner {\n",
              "    border: 2px solid var(--fill-color);\n",
              "    border-color: transparent;\n",
              "    border-bottom-color: var(--fill-color);\n",
              "    animation:\n",
              "      spin 1s steps(1) infinite;\n",
              "  }\n",
              "\n",
              "  @keyframes spin {\n",
              "    0% {\n",
              "      border-color: transparent;\n",
              "      border-bottom-color: var(--fill-color);\n",
              "      border-left-color: var(--fill-color);\n",
              "    }\n",
              "    20% {\n",
              "      border-color: transparent;\n",
              "      border-left-color: var(--fill-color);\n",
              "      border-top-color: var(--fill-color);\n",
              "    }\n",
              "    30% {\n",
              "      border-color: transparent;\n",
              "      border-left-color: var(--fill-color);\n",
              "      border-top-color: var(--fill-color);\n",
              "      border-right-color: var(--fill-color);\n",
              "    }\n",
              "    40% {\n",
              "      border-color: transparent;\n",
              "      border-right-color: var(--fill-color);\n",
              "      border-top-color: var(--fill-color);\n",
              "    }\n",
              "    60% {\n",
              "      border-color: transparent;\n",
              "      border-right-color: var(--fill-color);\n",
              "    }\n",
              "    80% {\n",
              "      border-color: transparent;\n",
              "      border-right-color: var(--fill-color);\n",
              "      border-bottom-color: var(--fill-color);\n",
              "    }\n",
              "    90% {\n",
              "      border-color: transparent;\n",
              "      border-bottom-color: var(--fill-color);\n",
              "    }\n",
              "  }\n",
              "</style>\n",
              "\n",
              "  <script>\n",
              "    async function quickchart(key) {\n",
              "      const quickchartButtonEl =\n",
              "        document.querySelector('#' + key + ' button');\n",
              "      quickchartButtonEl.disabled = true;  // To prevent multiple clicks.\n",
              "      quickchartButtonEl.classList.add('colab-df-spinner');\n",
              "      try {\n",
              "        const charts = await google.colab.kernel.invokeFunction(\n",
              "            'suggestCharts', [key], {});\n",
              "      } catch (error) {\n",
              "        console.error('Error during call to suggestCharts:', error);\n",
              "      }\n",
              "      quickchartButtonEl.classList.remove('colab-df-spinner');\n",
              "      quickchartButtonEl.classList.add('colab-df-quickchart-complete');\n",
              "    }\n",
              "    (() => {\n",
              "      let quickchartButtonEl =\n",
              "        document.querySelector('#df-a67cda16-bf63-4be2-85b8-028eab46df85 button');\n",
              "      quickchartButtonEl.style.display =\n",
              "        google.colab.kernel.accessAllowed ? 'block' : 'none';\n",
              "    })();\n",
              "  </script>\n",
              "</div>\n",
              "    </div>\n",
              "  </div>\n"
            ]
          },
          "metadata": {},
          "execution_count": 14
        }
      ],
      "source": [
        "# .tail() code\n",
        "taxis.tail()"
      ]
    },
    {
      "cell_type": "markdown",
      "metadata": {
        "id": "iO98NjcSmFS5"
      },
      "source": [
        "Describe the output of `.tail()` in this Markdown chunk."
      ]
    },
    {
      "cell_type": "code",
      "source": [
        "# .tail() returned the last 5 rows of taxis' dataframe"
      ],
      "metadata": {
        "id": "A2F4cUv_l4nA"
      },
      "execution_count": 15,
      "outputs": []
    },
    {
      "cell_type": "code",
      "execution_count": 16,
      "metadata": {
        "id": "jTQHejFQmFS5",
        "outputId": "095d2729-1735-423e-a74a-b09a1d822af2",
        "colab": {
          "base_uri": "https://localhost:8080/"
        }
      },
      "outputs": [
        {
          "output_type": "stream",
          "name": "stdout",
          "text": [
            "<class 'pandas.core.frame.DataFrame'>\n",
            "RangeIndex: 6433 entries, 0 to 6432\n",
            "Data columns (total 14 columns):\n",
            " #   Column           Non-Null Count  Dtype         \n",
            "---  ------           --------------  -----         \n",
            " 0   pickup           6433 non-null   datetime64[ns]\n",
            " 1   dropoff          6433 non-null   datetime64[ns]\n",
            " 2   passengers       6433 non-null   int64         \n",
            " 3   distance         6433 non-null   float64       \n",
            " 4   fare             6433 non-null   float64       \n",
            " 5   tip              6433 non-null   float64       \n",
            " 6   tolls            6433 non-null   float64       \n",
            " 7   total            6433 non-null   float64       \n",
            " 8   color            6433 non-null   object        \n",
            " 9   payment          6389 non-null   object        \n",
            " 10  pickup_zone      6407 non-null   object        \n",
            " 11  dropoff_zone     6388 non-null   object        \n",
            " 12  pickup_borough   6407 non-null   object        \n",
            " 13  dropoff_borough  6388 non-null   object        \n",
            "dtypes: datetime64[ns](2), float64(5), int64(1), object(6)\n",
            "memory usage: 703.7+ KB\n"
          ]
        }
      ],
      "source": [
        "# .info() code\n",
        "taxis.info()"
      ]
    },
    {
      "cell_type": "markdown",
      "metadata": {
        "id": "XC_By9NRmFS5"
      },
      "source": [
        "Describe the output of `.info()` in this Markdown chunk."
      ]
    },
    {
      "cell_type": "code",
      "source": [
        "# prints a concise summary of the dataframe.  Information provided included the # of columns, column labels, column data type, non-null count (# of cells per column), and memory usage"
      ],
      "metadata": {
        "id": "_G3qV_S8mHB4"
      },
      "execution_count": 17,
      "outputs": []
    },
    {
      "cell_type": "markdown",
      "source": [],
      "metadata": {
        "id": "wyci89gDmDxE"
      }
    },
    {
      "cell_type": "code",
      "execution_count": 19,
      "metadata": {
        "id": "SdXyIMEymFS6",
        "outputId": "6dcf3592-8bfd-43c8-94e4-94ac2b9d411b",
        "colab": {
          "base_uri": "https://localhost:8080/"
        }
      },
      "outputs": [
        {
          "output_type": "execute_result",
          "data": {
            "text/plain": [
              "6433"
            ]
          },
          "metadata": {},
          "execution_count": 19
        }
      ],
      "source": [
        "# .len() code\n",
        "len(taxis)"
      ]
    },
    {
      "cell_type": "code",
      "source": [
        "#returns the length of the data frame"
      ],
      "metadata": {
        "id": "8XARFr-imiFJ"
      },
      "execution_count": null,
      "outputs": []
    },
    {
      "cell_type": "markdown",
      "metadata": {
        "id": "W1c5twh-mFS6"
      },
      "source": [
        "Describe the output of `.len()` in this Markdown chunk."
      ]
    },
    {
      "cell_type": "code",
      "execution_count": 21,
      "metadata": {
        "id": "EUZmoM35mFS6",
        "outputId": "50a61805-2b88-4cfd-862d-cec10e52eddb",
        "colab": {
          "base_uri": "https://localhost:8080/"
        }
      },
      "outputs": [
        {
          "output_type": "execute_result",
          "data": {
            "text/plain": [
              "(6433, 14)"
            ]
          },
          "metadata": {},
          "execution_count": 21
        }
      ],
      "source": [
        "# .shape() code\n",
        "taxis.shape"
      ]
    },
    {
      "cell_type": "code",
      "source": [
        "#the data set has two dimensions, one with 6433 elements and one with 14"
      ],
      "metadata": {
        "id": "bGzriYJDnXQF"
      },
      "execution_count": null,
      "outputs": []
    },
    {
      "cell_type": "markdown",
      "metadata": {
        "id": "_GqA94zCmFS6"
      },
      "source": [
        "Describe the output of `.shape()` in this Markdown chunk."
      ]
    },
    {
      "cell_type": "code",
      "execution_count": 23,
      "metadata": {
        "id": "UwHsebH1mFS6",
        "outputId": "26856531-9c0e-4103-c83e-b615310b45fc",
        "colab": {
          "base_uri": "https://localhost:8080/",
          "height": 300
        }
      },
      "outputs": [
        {
          "output_type": "execute_result",
          "data": {
            "text/plain": [
              "        passengers     distance         fare         tip        tolls  \\\n",
              "count  6433.000000  6433.000000  6433.000000  6433.00000  6433.000000   \n",
              "mean      1.539251     3.024617    13.091073     1.97922     0.325273   \n",
              "std       1.203768     3.827867    11.551804     2.44856     1.415267   \n",
              "min       0.000000     0.000000     1.000000     0.00000     0.000000   \n",
              "25%       1.000000     0.980000     6.500000     0.00000     0.000000   \n",
              "50%       1.000000     1.640000     9.500000     1.70000     0.000000   \n",
              "75%       2.000000     3.210000    15.000000     2.80000     0.000000   \n",
              "max       6.000000    36.700000   150.000000    33.20000    24.020000   \n",
              "\n",
              "             total  \n",
              "count  6433.000000  \n",
              "mean     18.517794  \n",
              "std      13.815570  \n",
              "min       1.300000  \n",
              "25%      10.800000  \n",
              "50%      14.160000  \n",
              "75%      20.300000  \n",
              "max     174.820000  "
            ],
            "text/html": [
              "\n",
              "  <div id=\"df-41b7bc68-bf6c-4cec-a002-0a090ec4f992\" class=\"colab-df-container\">\n",
              "    <div>\n",
              "<style scoped>\n",
              "    .dataframe tbody tr th:only-of-type {\n",
              "        vertical-align: middle;\n",
              "    }\n",
              "\n",
              "    .dataframe tbody tr th {\n",
              "        vertical-align: top;\n",
              "    }\n",
              "\n",
              "    .dataframe thead th {\n",
              "        text-align: right;\n",
              "    }\n",
              "</style>\n",
              "<table border=\"1\" class=\"dataframe\">\n",
              "  <thead>\n",
              "    <tr style=\"text-align: right;\">\n",
              "      <th></th>\n",
              "      <th>passengers</th>\n",
              "      <th>distance</th>\n",
              "      <th>fare</th>\n",
              "      <th>tip</th>\n",
              "      <th>tolls</th>\n",
              "      <th>total</th>\n",
              "    </tr>\n",
              "  </thead>\n",
              "  <tbody>\n",
              "    <tr>\n",
              "      <th>count</th>\n",
              "      <td>6433.000000</td>\n",
              "      <td>6433.000000</td>\n",
              "      <td>6433.000000</td>\n",
              "      <td>6433.00000</td>\n",
              "      <td>6433.000000</td>\n",
              "      <td>6433.000000</td>\n",
              "    </tr>\n",
              "    <tr>\n",
              "      <th>mean</th>\n",
              "      <td>1.539251</td>\n",
              "      <td>3.024617</td>\n",
              "      <td>13.091073</td>\n",
              "      <td>1.97922</td>\n",
              "      <td>0.325273</td>\n",
              "      <td>18.517794</td>\n",
              "    </tr>\n",
              "    <tr>\n",
              "      <th>std</th>\n",
              "      <td>1.203768</td>\n",
              "      <td>3.827867</td>\n",
              "      <td>11.551804</td>\n",
              "      <td>2.44856</td>\n",
              "      <td>1.415267</td>\n",
              "      <td>13.815570</td>\n",
              "    </tr>\n",
              "    <tr>\n",
              "      <th>min</th>\n",
              "      <td>0.000000</td>\n",
              "      <td>0.000000</td>\n",
              "      <td>1.000000</td>\n",
              "      <td>0.00000</td>\n",
              "      <td>0.000000</td>\n",
              "      <td>1.300000</td>\n",
              "    </tr>\n",
              "    <tr>\n",
              "      <th>25%</th>\n",
              "      <td>1.000000</td>\n",
              "      <td>0.980000</td>\n",
              "      <td>6.500000</td>\n",
              "      <td>0.00000</td>\n",
              "      <td>0.000000</td>\n",
              "      <td>10.800000</td>\n",
              "    </tr>\n",
              "    <tr>\n",
              "      <th>50%</th>\n",
              "      <td>1.000000</td>\n",
              "      <td>1.640000</td>\n",
              "      <td>9.500000</td>\n",
              "      <td>1.70000</td>\n",
              "      <td>0.000000</td>\n",
              "      <td>14.160000</td>\n",
              "    </tr>\n",
              "    <tr>\n",
              "      <th>75%</th>\n",
              "      <td>2.000000</td>\n",
              "      <td>3.210000</td>\n",
              "      <td>15.000000</td>\n",
              "      <td>2.80000</td>\n",
              "      <td>0.000000</td>\n",
              "      <td>20.300000</td>\n",
              "    </tr>\n",
              "    <tr>\n",
              "      <th>max</th>\n",
              "      <td>6.000000</td>\n",
              "      <td>36.700000</td>\n",
              "      <td>150.000000</td>\n",
              "      <td>33.20000</td>\n",
              "      <td>24.020000</td>\n",
              "      <td>174.820000</td>\n",
              "    </tr>\n",
              "  </tbody>\n",
              "</table>\n",
              "</div>\n",
              "    <div class=\"colab-df-buttons\">\n",
              "\n",
              "  <div class=\"colab-df-container\">\n",
              "    <button class=\"colab-df-convert\" onclick=\"convertToInteractive('df-41b7bc68-bf6c-4cec-a002-0a090ec4f992')\"\n",
              "            title=\"Convert this dataframe to an interactive table.\"\n",
              "            style=\"display:none;\">\n",
              "\n",
              "  <svg xmlns=\"http://www.w3.org/2000/svg\" height=\"24px\" viewBox=\"0 -960 960 960\">\n",
              "    <path d=\"M120-120v-720h720v720H120Zm60-500h600v-160H180v160Zm220 220h160v-160H400v160Zm0 220h160v-160H400v160ZM180-400h160v-160H180v160Zm440 0h160v-160H620v160ZM180-180h160v-160H180v160Zm440 0h160v-160H620v160Z\"/>\n",
              "  </svg>\n",
              "    </button>\n",
              "\n",
              "  <style>\n",
              "    .colab-df-container {\n",
              "      display:flex;\n",
              "      gap: 12px;\n",
              "    }\n",
              "\n",
              "    .colab-df-convert {\n",
              "      background-color: #E8F0FE;\n",
              "      border: none;\n",
              "      border-radius: 50%;\n",
              "      cursor: pointer;\n",
              "      display: none;\n",
              "      fill: #1967D2;\n",
              "      height: 32px;\n",
              "      padding: 0 0 0 0;\n",
              "      width: 32px;\n",
              "    }\n",
              "\n",
              "    .colab-df-convert:hover {\n",
              "      background-color: #E2EBFA;\n",
              "      box-shadow: 0px 1px 2px rgba(60, 64, 67, 0.3), 0px 1px 3px 1px rgba(60, 64, 67, 0.15);\n",
              "      fill: #174EA6;\n",
              "    }\n",
              "\n",
              "    .colab-df-buttons div {\n",
              "      margin-bottom: 4px;\n",
              "    }\n",
              "\n",
              "    [theme=dark] .colab-df-convert {\n",
              "      background-color: #3B4455;\n",
              "      fill: #D2E3FC;\n",
              "    }\n",
              "\n",
              "    [theme=dark] .colab-df-convert:hover {\n",
              "      background-color: #434B5C;\n",
              "      box-shadow: 0px 1px 3px 1px rgba(0, 0, 0, 0.15);\n",
              "      filter: drop-shadow(0px 1px 2px rgba(0, 0, 0, 0.3));\n",
              "      fill: #FFFFFF;\n",
              "    }\n",
              "  </style>\n",
              "\n",
              "    <script>\n",
              "      const buttonEl =\n",
              "        document.querySelector('#df-41b7bc68-bf6c-4cec-a002-0a090ec4f992 button.colab-df-convert');\n",
              "      buttonEl.style.display =\n",
              "        google.colab.kernel.accessAllowed ? 'block' : 'none';\n",
              "\n",
              "      async function convertToInteractive(key) {\n",
              "        const element = document.querySelector('#df-41b7bc68-bf6c-4cec-a002-0a090ec4f992');\n",
              "        const dataTable =\n",
              "          await google.colab.kernel.invokeFunction('convertToInteractive',\n",
              "                                                    [key], {});\n",
              "        if (!dataTable) return;\n",
              "\n",
              "        const docLinkHtml = 'Like what you see? Visit the ' +\n",
              "          '<a target=\"_blank\" href=https://colab.research.google.com/notebooks/data_table.ipynb>data table notebook</a>'\n",
              "          + ' to learn more about interactive tables.';\n",
              "        element.innerHTML = '';\n",
              "        dataTable['output_type'] = 'display_data';\n",
              "        await google.colab.output.renderOutput(dataTable, element);\n",
              "        const docLink = document.createElement('div');\n",
              "        docLink.innerHTML = docLinkHtml;\n",
              "        element.appendChild(docLink);\n",
              "      }\n",
              "    </script>\n",
              "  </div>\n",
              "\n",
              "\n",
              "<div id=\"df-3da5a9ef-c824-4c75-9f0f-7a6014f4dadf\">\n",
              "  <button class=\"colab-df-quickchart\" onclick=\"quickchart('df-3da5a9ef-c824-4c75-9f0f-7a6014f4dadf')\"\n",
              "            title=\"Suggest charts.\"\n",
              "            style=\"display:none;\">\n",
              "\n",
              "<svg xmlns=\"http://www.w3.org/2000/svg\" height=\"24px\"viewBox=\"0 0 24 24\"\n",
              "     width=\"24px\">\n",
              "    <g>\n",
              "        <path d=\"M19 3H5c-1.1 0-2 .9-2 2v14c0 1.1.9 2 2 2h14c1.1 0 2-.9 2-2V5c0-1.1-.9-2-2-2zM9 17H7v-7h2v7zm4 0h-2V7h2v10zm4 0h-2v-4h2v4z\"/>\n",
              "    </g>\n",
              "</svg>\n",
              "  </button>\n",
              "\n",
              "<style>\n",
              "  .colab-df-quickchart {\n",
              "      --bg-color: #E8F0FE;\n",
              "      --fill-color: #1967D2;\n",
              "      --hover-bg-color: #E2EBFA;\n",
              "      --hover-fill-color: #174EA6;\n",
              "      --disabled-fill-color: #AAA;\n",
              "      --disabled-bg-color: #DDD;\n",
              "  }\n",
              "\n",
              "  [theme=dark] .colab-df-quickchart {\n",
              "      --bg-color: #3B4455;\n",
              "      --fill-color: #D2E3FC;\n",
              "      --hover-bg-color: #434B5C;\n",
              "      --hover-fill-color: #FFFFFF;\n",
              "      --disabled-bg-color: #3B4455;\n",
              "      --disabled-fill-color: #666;\n",
              "  }\n",
              "\n",
              "  .colab-df-quickchart {\n",
              "    background-color: var(--bg-color);\n",
              "    border: none;\n",
              "    border-radius: 50%;\n",
              "    cursor: pointer;\n",
              "    display: none;\n",
              "    fill: var(--fill-color);\n",
              "    height: 32px;\n",
              "    padding: 0;\n",
              "    width: 32px;\n",
              "  }\n",
              "\n",
              "  .colab-df-quickchart:hover {\n",
              "    background-color: var(--hover-bg-color);\n",
              "    box-shadow: 0 1px 2px rgba(60, 64, 67, 0.3), 0 1px 3px 1px rgba(60, 64, 67, 0.15);\n",
              "    fill: var(--button-hover-fill-color);\n",
              "  }\n",
              "\n",
              "  .colab-df-quickchart-complete:disabled,\n",
              "  .colab-df-quickchart-complete:disabled:hover {\n",
              "    background-color: var(--disabled-bg-color);\n",
              "    fill: var(--disabled-fill-color);\n",
              "    box-shadow: none;\n",
              "  }\n",
              "\n",
              "  .colab-df-spinner {\n",
              "    border: 2px solid var(--fill-color);\n",
              "    border-color: transparent;\n",
              "    border-bottom-color: var(--fill-color);\n",
              "    animation:\n",
              "      spin 1s steps(1) infinite;\n",
              "  }\n",
              "\n",
              "  @keyframes spin {\n",
              "    0% {\n",
              "      border-color: transparent;\n",
              "      border-bottom-color: var(--fill-color);\n",
              "      border-left-color: var(--fill-color);\n",
              "    }\n",
              "    20% {\n",
              "      border-color: transparent;\n",
              "      border-left-color: var(--fill-color);\n",
              "      border-top-color: var(--fill-color);\n",
              "    }\n",
              "    30% {\n",
              "      border-color: transparent;\n",
              "      border-left-color: var(--fill-color);\n",
              "      border-top-color: var(--fill-color);\n",
              "      border-right-color: var(--fill-color);\n",
              "    }\n",
              "    40% {\n",
              "      border-color: transparent;\n",
              "      border-right-color: var(--fill-color);\n",
              "      border-top-color: var(--fill-color);\n",
              "    }\n",
              "    60% {\n",
              "      border-color: transparent;\n",
              "      border-right-color: var(--fill-color);\n",
              "    }\n",
              "    80% {\n",
              "      border-color: transparent;\n",
              "      border-right-color: var(--fill-color);\n",
              "      border-bottom-color: var(--fill-color);\n",
              "    }\n",
              "    90% {\n",
              "      border-color: transparent;\n",
              "      border-bottom-color: var(--fill-color);\n",
              "    }\n",
              "  }\n",
              "</style>\n",
              "\n",
              "  <script>\n",
              "    async function quickchart(key) {\n",
              "      const quickchartButtonEl =\n",
              "        document.querySelector('#' + key + ' button');\n",
              "      quickchartButtonEl.disabled = true;  // To prevent multiple clicks.\n",
              "      quickchartButtonEl.classList.add('colab-df-spinner');\n",
              "      try {\n",
              "        const charts = await google.colab.kernel.invokeFunction(\n",
              "            'suggestCharts', [key], {});\n",
              "      } catch (error) {\n",
              "        console.error('Error during call to suggestCharts:', error);\n",
              "      }\n",
              "      quickchartButtonEl.classList.remove('colab-df-spinner');\n",
              "      quickchartButtonEl.classList.add('colab-df-quickchart-complete');\n",
              "    }\n",
              "    (() => {\n",
              "      let quickchartButtonEl =\n",
              "        document.querySelector('#df-3da5a9ef-c824-4c75-9f0f-7a6014f4dadf button');\n",
              "      quickchartButtonEl.style.display =\n",
              "        google.colab.kernel.accessAllowed ? 'block' : 'none';\n",
              "    })();\n",
              "  </script>\n",
              "</div>\n",
              "    </div>\n",
              "  </div>\n"
            ]
          },
          "metadata": {},
          "execution_count": 23
        }
      ],
      "source": [
        "# .describe() code\n",
        "taxis.describe()"
      ]
    },
    {
      "cell_type": "markdown",
      "metadata": {
        "id": "plE34liSmFS7"
      },
      "source": [
        "Describe the output of `.shape()` in this Markdown chunk."
      ]
    },
    {
      "cell_type": "code",
      "source": [
        "# provides summary statistics which divulge helpful information about the dataframe (count, mean std, min/max, and quartiles)"
      ],
      "metadata": {
        "id": "0ZcNbu9koS6Q"
      },
      "execution_count": null,
      "outputs": []
    },
    {
      "cell_type": "markdown",
      "metadata": {
        "id": "PITVaMwImFS7"
      },
      "source": [
        "---\n",
        "\n",
        "## Data Subsetting & Analysis"
      ]
    },
    {
      "cell_type": "markdown",
      "metadata": {
        "id": "eY1Kd-DvmFS7"
      },
      "source": [
        "2. Answer the following the question using good subsetting techniques:\n",
        "* What is the difference in fare between rides with 1 passenger and rides with 2+ passengers for rides that took place exclusively in Manhattan?\n",
        "\n",
        "*5 points*"
      ]
    },
    {
      "cell_type": "code",
      "execution_count": null,
      "metadata": {
        "id": "muCrBIRAmFS7"
      },
      "outputs": [],
      "source": [
        "# subset needed columns\n",
        "\n",
        "\n",
        "# filter by borough\n",
        "\n"
      ]
    },
    {
      "cell_type": "code",
      "execution_count": null,
      "metadata": {
        "id": "-meIEZbNmFS7"
      },
      "outputs": [],
      "source": []
    },
    {
      "cell_type": "code",
      "execution_count": null,
      "metadata": {
        "id": "qObJmTqfmFS8"
      },
      "outputs": [],
      "source": [
        "# bin data on passengers\n",
        "# hint: create new column that specifies if there was 1 passenger or more than 1 passenger\n"
      ]
    },
    {
      "cell_type": "code",
      "execution_count": null,
      "metadata": {
        "id": "2vJyCAeYmFS8"
      },
      "outputs": [],
      "source": [
        "# calculate the mean for fares between the two different groups. Final output should be  in table format\n"
      ]
    },
    {
      "cell_type": "markdown",
      "metadata": {
        "id": "nwLy37YBmFS8"
      },
      "source": [
        "How much more did rides with 2 or more passengers pay in fare? Answer in this markdown chunk."
      ]
    },
    {
      "cell_type": "markdown",
      "metadata": {
        "id": "Ku4OT6wUmFS8"
      },
      "source": [
        "3. What is the average fare for rides paid in cash (round to the near 2 decimal places)?\n",
        "\n",
        "*2 points*"
      ]
    },
    {
      "cell_type": "code",
      "execution_count": null,
      "metadata": {
        "id": "CzacB8tFmFS9"
      },
      "outputs": [],
      "source": [
        "# subset needed columns\n",
        "\n",
        "# filter by payment type\n",
        "\n",
        "# calculate mean\n"
      ]
    },
    {
      "cell_type": "markdown",
      "metadata": {
        "id": "CLpow4m9mFS9"
      },
      "source": [
        "4. Tally the number of rides starting in each pick-up zone. Display the top five results.\n",
        "\n",
        "Note: do not use a for-loop\n",
        "\n",
        "*2 point*"
      ]
    },
    {
      "cell_type": "code",
      "execution_count": null,
      "metadata": {
        "id": "1H_GT43UmFS9"
      },
      "outputs": [],
      "source": []
    },
    {
      "cell_type": "markdown",
      "metadata": {
        "id": "bwYV3QpzmFS9"
      },
      "source": [
        "5. What percentage of rides did not tip?\n",
        "\n",
        "*1 points*"
      ]
    },
    {
      "cell_type": "code",
      "execution_count": null,
      "metadata": {
        "id": "lGLIxEFSmFS9"
      },
      "outputs": [],
      "source": [
        "# subset and calculate"
      ]
    }
  ],
  "metadata": {
    "kernelspec": {
      "display_name": "Python 3 (ipykernel)",
      "language": "python",
      "name": "python3"
    },
    "language_info": {
      "codemirror_mode": {
        "name": "ipython",
        "version": 3
      },
      "file_extension": ".py",
      "mimetype": "text/x-python",
      "name": "python",
      "nbconvert_exporter": "python",
      "pygments_lexer": "ipython3",
      "version": "3.9.16"
    },
    "vscode": {
      "interpreter": {
        "hash": "b0fa6594d8f4cbf19f97940f81e996739fb7646882a419484c72d19e05852a7e"
      }
    },
    "colab": {
      "provenance": [],
      "include_colab_link": true
    }
  },
  "nbformat": 4,
  "nbformat_minor": 0
}