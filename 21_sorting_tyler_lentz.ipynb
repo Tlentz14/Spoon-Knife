{
  "cells": [
    {
      "cell_type": "markdown",
      "metadata": {
        "id": "view-in-github",
        "colab_type": "text"
      },
      "source": [
        "<a href=\"https://colab.research.google.com/github/Tlentz14/Spoon-Knife/blob/main/21_sorting_tyler_lentz.ipynb\" target=\"_parent\"><img src=\"https://colab.research.google.com/assets/colab-badge.svg\" alt=\"Open In Colab\"/></a>"
      ]
    },
    {
      "cell_type": "markdown",
      "id": "f1cd8d9e-d9a8-43fa-b049-30f9386634d0",
      "metadata": {
        "id": "f1cd8d9e-d9a8-43fa-b049-30f9386634d0"
      },
      "source": [
        "## Sorting in Python using Built-in Functions\n",
        "\n",
        "### University of Virginia\n",
        "\n",
        "### DS1002: Programming for Data Science\n",
        "\n",
        "### Last Updated: September 12, 2022\n",
        "\n",
        "---\n",
        "\n",
        "PREREQUISITES  \n",
        "* data structures\n",
        "* lamda functions  \n",
        "\n",
        "SOURCES  \n",
        "*  w3schools explaination  \n",
        "https://www.w3schools.com/python/ref_func_sorted.asp\n",
        "\n",
        "OBJECTIVES  \n",
        "* understand the `.sorted` method in Python  \n",
        "* demonstrate the ability to sort lists and tuples"
      ]
    },
    {
      "cell_type": "markdown",
      "id": "bed93199-a7f7-4175-92d6-e0d882c71f9a",
      "metadata": {
        "id": "bed93199-a7f7-4175-92d6-e0d882c71f9a"
      },
      "source": [
        "# Sorting a Simple List"
      ]
    },
    {
      "cell_type": "code",
      "execution_count": 1,
      "id": "30c117bc-d246-429c-8428-29c57bdffe6c",
      "metadata": {
        "tags": [],
        "id": "30c117bc-d246-429c-8428-29c57bdffe6c"
      },
      "outputs": [],
      "source": [
        "simpleList = [3,7,22,8,14,55,1,23,45,9]"
      ]
    },
    {
      "cell_type": "markdown",
      "id": "12cbf9dd-e3f0-4283-8388-2b9090d7a726",
      "metadata": {
        "id": "12cbf9dd-e3f0-4283-8388-2b9090d7a726"
      },
      "source": [
        "**Sorting function**"
      ]
    },
    {
      "cell_type": "code",
      "execution_count": 2,
      "id": "7bdc203b-fbce-40b4-8da7-f24660005427",
      "metadata": {
        "tags": [],
        "id": "7bdc203b-fbce-40b4-8da7-f24660005427",
        "outputId": "5ed0ceb1-6a9a-46db-808d-6004b2b90380",
        "colab": {
          "base_uri": "https://localhost:8080/"
        }
      },
      "outputs": [
        {
          "output_type": "execute_result",
          "data": {
            "text/plain": [
              "[1, 3, 7, 8, 9, 14, 22, 23, 45, 55]"
            ]
          },
          "metadata": {},
          "execution_count": 2
        }
      ],
      "source": [
        "sorted(simpleList)"
      ]
    },
    {
      "cell_type": "markdown",
      "id": "f3059563-92a0-43ea-82c3-08285f086eff",
      "metadata": {
        "id": "f3059563-92a0-43ea-82c3-08285f086eff"
      },
      "source": [
        "**In-place sorting method**"
      ]
    },
    {
      "cell_type": "code",
      "execution_count": 3,
      "id": "93432fd8-9efe-4dbb-8662-a3a81dc50c30",
      "metadata": {
        "tags": [],
        "id": "93432fd8-9efe-4dbb-8662-a3a81dc50c30"
      },
      "outputs": [],
      "source": [
        "simpleList.sort()"
      ]
    },
    {
      "cell_type": "code",
      "execution_count": 4,
      "id": "bafdb77b-46ce-4e31-ae74-e8ddd736363a",
      "metadata": {
        "tags": [],
        "id": "bafdb77b-46ce-4e31-ae74-e8ddd736363a",
        "outputId": "53f3f661-b34c-4ffd-b49b-648c1ff9f9f1",
        "colab": {
          "base_uri": "https://localhost:8080/"
        }
      },
      "outputs": [
        {
          "output_type": "execute_result",
          "data": {
            "text/plain": [
              "[1, 3, 7, 8, 9, 14, 22, 23, 45, 55]"
            ]
          },
          "metadata": {},
          "execution_count": 4
        }
      ],
      "source": [
        "simpleList"
      ]
    },
    {
      "cell_type": "markdown",
      "id": "18565160-1850-43de-8146-3cfdfc25904a",
      "metadata": {
        "id": "18565160-1850-43de-8146-3cfdfc25904a"
      },
      "source": [
        "**Sorting in descending order**"
      ]
    },
    {
      "cell_type": "code",
      "execution_count": 5,
      "id": "377efb1d-be12-425a-9f4e-87ae3047aa60",
      "metadata": {
        "tags": [],
        "id": "377efb1d-be12-425a-9f4e-87ae3047aa60",
        "outputId": "5dccc455-4533-44be-fa81-ffedec931e3a",
        "colab": {
          "base_uri": "https://localhost:8080/"
        }
      },
      "outputs": [
        {
          "output_type": "execute_result",
          "data": {
            "text/plain": [
              "[55, 45, 23, 22, 14, 9, 8, 7, 3, 1]"
            ]
          },
          "metadata": {},
          "execution_count": 5
        }
      ],
      "source": [
        "sorted(simpleList, reverse=True)"
      ]
    },
    {
      "cell_type": "code",
      "execution_count": 6,
      "id": "385b4c66-3623-49db-9d27-e14bb422a82e",
      "metadata": {
        "tags": [],
        "id": "385b4c66-3623-49db-9d27-e14bb422a82e"
      },
      "outputs": [],
      "source": [
        "simpleList.sort(reverse=True)"
      ]
    },
    {
      "cell_type": "code",
      "execution_count": 7,
      "id": "6613c20e-116c-4859-949c-9b97aea21c73",
      "metadata": {
        "tags": [],
        "id": "6613c20e-116c-4859-949c-9b97aea21c73",
        "outputId": "0915fc28-07ed-4f4d-8d9b-9ba728f4c75c",
        "colab": {
          "base_uri": "https://localhost:8080/"
        }
      },
      "outputs": [
        {
          "output_type": "execute_result",
          "data": {
            "text/plain": [
              "[55, 45, 23, 22, 14, 9, 8, 7, 3, 1]"
            ]
          },
          "metadata": {},
          "execution_count": 7
        }
      ],
      "source": [
        "simpleList"
      ]
    },
    {
      "cell_type": "markdown",
      "id": "44e9afd7-3805-4c6a-a633-7e6db6afdc4b",
      "metadata": {
        "id": "44e9afd7-3805-4c6a-a633-7e6db6afdc4b"
      },
      "source": [
        "# Sorting a Simple Tuple\n",
        "\n",
        "Important note: Tuples must always use the \"sorted\" function to return a sorted *list*.\n",
        "\n",
        "You cannot modify tuples, so there isn't an in-place sort function."
      ]
    },
    {
      "cell_type": "code",
      "execution_count": 8,
      "id": "66044e46-5eaa-4ada-96fb-407ada98eb30",
      "metadata": {
        "tags": [],
        "id": "66044e46-5eaa-4ada-96fb-407ada98eb30"
      },
      "outputs": [],
      "source": [
        "simpleTup = (2,6,9,22,1,45,16,34)"
      ]
    },
    {
      "cell_type": "code",
      "execution_count": 9,
      "id": "d7504bf5-2d65-4ffa-81f5-77bfddc1b54f",
      "metadata": {
        "tags": [],
        "id": "d7504bf5-2d65-4ffa-81f5-77bfddc1b54f",
        "outputId": "5b00f4d7-2c9e-4904-90fe-3449cc7ecd46",
        "colab": {
          "base_uri": "https://localhost:8080/"
        }
      },
      "outputs": [
        {
          "output_type": "execute_result",
          "data": {
            "text/plain": [
              "[1, 2, 6, 9, 16, 22, 34, 45]"
            ]
          },
          "metadata": {},
          "execution_count": 9
        }
      ],
      "source": [
        "sorted(simpleTup)"
      ]
    },
    {
      "cell_type": "code",
      "execution_count": 12,
      "id": "2c7718fe",
      "metadata": {
        "tags": [],
        "id": "2c7718fe",
        "outputId": "a971a8ca-160e-4563-a98a-19221b2b0540",
        "colab": {
          "base_uri": "https://localhost:8080/",
          "height": 179
        }
      },
      "outputs": [
        {
          "output_type": "error",
          "ename": "AttributeError",
          "evalue": "ignored",
          "traceback": [
            "\u001b[0;31m---------------------------------------------------------------------------\u001b[0m",
            "\u001b[0;31mAttributeError\u001b[0m                            Traceback (most recent call last)",
            "\u001b[0;32m<ipython-input-12-a006b121074e>\u001b[0m in \u001b[0;36m<cell line: 1>\u001b[0;34m()\u001b[0m\n\u001b[0;32m----> 1\u001b[0;31m \u001b[0msimpleTup\u001b[0m\u001b[0;34m.\u001b[0m\u001b[0msort\u001b[0m\u001b[0;34m(\u001b[0m\u001b[0;34m)\u001b[0m\u001b[0;34m\u001b[0m\u001b[0;34m\u001b[0m\u001b[0m\n\u001b[0m",
            "\u001b[0;31mAttributeError\u001b[0m: 'tuple' object has no attribute 'sort'"
          ]
        }
      ],
      "source": [
        "simpleTup.sorted()"
      ]
    },
    {
      "cell_type": "markdown",
      "id": "39657975-d9b0-49d6-8f7c-06b3761fe65d",
      "metadata": {
        "id": "39657975-d9b0-49d6-8f7c-06b3761fe65d"
      },
      "source": [
        "# Sorting a List of Tuples or Lists of Lists\n",
        "\n",
        "The sorted function takes in a keyword argument called \"key\".\n",
        "\n",
        "Key provides a way to specify a function and returns what you would like\n",
        "your items sorted by."
      ]
    },
    {
      "cell_type": "code",
      "execution_count": 13,
      "id": "db07b7b6-6b3b-426e-b4df-329b45ed77dd",
      "metadata": {
        "tags": [],
        "id": "db07b7b6-6b3b-426e-b4df-329b45ed77dd"
      },
      "outputs": [],
      "source": [
        "q = \"Are you suggesting coconuts migrate\" # Fun quote from Monty Python"
      ]
    },
    {
      "cell_type": "code",
      "execution_count": 14,
      "id": "dac651a5-5818-4a97-9c80-6f819f690b11",
      "metadata": {
        "tags": [],
        "id": "dac651a5-5818-4a97-9c80-6f819f690b11",
        "outputId": "82742eec-72e7-4f2c-fee5-2e4fcfcb1722",
        "colab": {
          "base_uri": "https://localhost:8080/",
          "height": 35
        }
      },
      "outputs": [
        {
          "output_type": "execute_result",
          "data": {
            "text/plain": [
              "'Are you suggesting coconuts migrate'"
            ],
            "application/vnd.google.colaboratory.intrinsic+json": {
              "type": "string"
            }
          },
          "metadata": {},
          "execution_count": 14
        }
      ],
      "source": [
        "q"
      ]
    },
    {
      "cell_type": "code",
      "execution_count": 15,
      "id": "96c3c3e9-ac7c-44ae-a3b6-ce9c8d25ad57",
      "metadata": {
        "tags": [],
        "id": "96c3c3e9-ac7c-44ae-a3b6-ce9c8d25ad57"
      },
      "outputs": [],
      "source": [
        "wlen = [(word, len(word)) for word in q.split()]"
      ]
    },
    {
      "cell_type": "code",
      "execution_count": 16,
      "id": "e690b10d-640f-4de0-8dc0-180b5a45472a",
      "metadata": {
        "tags": [],
        "id": "e690b10d-640f-4de0-8dc0-180b5a45472a",
        "outputId": "13a0e02c-32a7-44ed-f93e-ad17d6539912",
        "colab": {
          "base_uri": "https://localhost:8080/"
        }
      },
      "outputs": [
        {
          "output_type": "execute_result",
          "data": {
            "text/plain": [
              "[('Are', 3), ('you', 3), ('suggesting', 10), ('coconuts', 8), ('migrate', 7)]"
            ]
          },
          "metadata": {},
          "execution_count": 16
        }
      ],
      "source": [
        "wlen"
      ]
    },
    {
      "cell_type": "code",
      "execution_count": 17,
      "id": "97f507f9",
      "metadata": {
        "tags": [],
        "id": "97f507f9",
        "outputId": "67e5d17a-7d09-4860-e9c5-057d53cd295d",
        "colab": {
          "base_uri": "https://localhost:8080/"
        }
      },
      "outputs": [
        {
          "output_type": "execute_result",
          "data": {
            "text/plain": [
              "[('Are', 3), ('coconuts', 8), ('migrate', 7), ('suggesting', 10), ('you', 3)]"
            ]
          },
          "metadata": {},
          "execution_count": 17
        }
      ],
      "source": [
        "sorted(wlen)"
      ]
    },
    {
      "cell_type": "code",
      "execution_count": 18,
      "id": "60c21ce9-03cf-4e7d-a4b6-c17f7c53dbad",
      "metadata": {
        "tags": [],
        "id": "60c21ce9-03cf-4e7d-a4b6-c17f7c53dbad"
      },
      "outputs": [],
      "source": [
        "wlen_sorted = sorted(wlen, key=lambda wlen: wlen[1]) # sort by length"
      ]
    },
    {
      "cell_type": "code",
      "execution_count": 19,
      "id": "50402ac5-daed-4554-9ba4-4345200170b7",
      "metadata": {
        "tags": [],
        "id": "50402ac5-daed-4554-9ba4-4345200170b7",
        "outputId": "7b5b89b4-b3f1-4b4a-a59e-fcdcfbf99f6c",
        "colab": {
          "base_uri": "https://localhost:8080/"
        }
      },
      "outputs": [
        {
          "output_type": "execute_result",
          "data": {
            "text/plain": [
              "[('Are', 3), ('you', 3), ('migrate', 7), ('coconuts', 8), ('suggesting', 10)]"
            ]
          },
          "metadata": {},
          "execution_count": 19
        }
      ],
      "source": [
        "wlen_sorted"
      ]
    },
    {
      "cell_type": "markdown",
      "id": "09bec378-8872-44fa-895b-b89416a5c2cb",
      "metadata": {
        "id": "09bec378-8872-44fa-895b-b89416a5c2cb"
      },
      "source": [
        "# Sorting List of Lists"
      ]
    },
    {
      "cell_type": "code",
      "execution_count": 20,
      "id": "809d4609-731a-4f87-b0f6-6a4180acb214",
      "metadata": {
        "tags": [],
        "id": "809d4609-731a-4f87-b0f6-6a4180acb214"
      },
      "outputs": [],
      "source": [
        "lst = [[2, 3], [6, 7], [7, 14], [25, 15], [35, 8], [1, 44]]"
      ]
    },
    {
      "cell_type": "code",
      "execution_count": 21,
      "id": "ed345f60-61c0-42b5-a8c2-95908e74832d",
      "metadata": {
        "tags": [],
        "id": "ed345f60-61c0-42b5-a8c2-95908e74832d",
        "outputId": "8e17d390-53ad-4f91-ce66-5b44562bdb8e",
        "colab": {
          "base_uri": "https://localhost:8080/"
        }
      },
      "outputs": [
        {
          "output_type": "execute_result",
          "data": {
            "text/plain": [
              "[[2, 3], [6, 7], [7, 14], [25, 15], [35, 8], [1, 44]]"
            ]
          },
          "metadata": {},
          "execution_count": 21
        }
      ],
      "source": [
        "lst"
      ]
    },
    {
      "cell_type": "markdown",
      "id": "8cb57406-f7c9-46b4-a980-839902f27e60",
      "metadata": {
        "id": "8cb57406-f7c9-46b4-a980-839902f27e60"
      },
      "source": [
        "Note below how the `key` parameter implicitly passes the element to the lambda function."
      ]
    },
    {
      "cell_type": "code",
      "execution_count": 22,
      "id": "8de3c597-f8b6-419d-8178-645601d7da51",
      "metadata": {
        "id": "8de3c597-f8b6-419d-8178-645601d7da51"
      },
      "outputs": [],
      "source": [
        "sortedLst = sorted(lst, key=lambda x: x[0]) # sort by the FIRST item in the sub-list"
      ]
    },
    {
      "cell_type": "code",
      "execution_count": 23,
      "id": "3667389c-83c4-4f75-9bc0-c6058a16a653",
      "metadata": {
        "id": "3667389c-83c4-4f75-9bc0-c6058a16a653",
        "outputId": "212b76a7-b4a6-4224-9a9e-14861e1f179c",
        "colab": {
          "base_uri": "https://localhost:8080/"
        }
      },
      "outputs": [
        {
          "output_type": "execute_result",
          "data": {
            "text/plain": [
              "[[1, 44], [2, 3], [6, 7], [7, 14], [25, 15], [35, 8]]"
            ]
          },
          "metadata": {},
          "execution_count": 23
        }
      ],
      "source": [
        "sortedLst"
      ]
    },
    {
      "cell_type": "markdown",
      "id": "b0e33e55-4b4a-4f73-b538-53c0ea9a6e88",
      "metadata": {
        "id": "b0e33e55-4b4a-4f73-b538-53c0ea9a6e88"
      },
      "source": [
        "Sorting by the SECOND item in each sub-list is a simple matter of\n",
        "changing what the function returns, as follows:"
      ]
    },
    {
      "cell_type": "code",
      "execution_count": 24,
      "id": "374828de-7849-480b-8506-5d0af83b19ec",
      "metadata": {
        "id": "374828de-7849-480b-8506-5d0af83b19ec"
      },
      "outputs": [],
      "source": [
        "lst = [[2, 3], [6, 7], [7, 14], [25, 15], [35, 8], [1, 44]]"
      ]
    },
    {
      "cell_type": "code",
      "execution_count": 25,
      "id": "99e140c5-2104-46a5-a5f8-ad348066b6c2",
      "metadata": {
        "id": "99e140c5-2104-46a5-a5f8-ad348066b6c2"
      },
      "outputs": [],
      "source": [
        "sortedLst2 = sorted(lst, key=lambda x: x[1]) # sort by the SECOND item in the sub-list"
      ]
    },
    {
      "cell_type": "code",
      "execution_count": 26,
      "id": "0debb09f-b03e-4d61-8586-c271735c61a9",
      "metadata": {
        "id": "0debb09f-b03e-4d61-8586-c271735c61a9",
        "outputId": "b35159f8-cd91-4baf-d690-90c0419aa80f",
        "colab": {
          "base_uri": "https://localhost:8080/"
        }
      },
      "outputs": [
        {
          "output_type": "execute_result",
          "data": {
            "text/plain": [
              "[[2, 3], [6, 7], [35, 8], [7, 14], [25, 15], [1, 44]]"
            ]
          },
          "metadata": {},
          "execution_count": 26
        }
      ],
      "source": [
        "sortedLst2"
      ]
    },
    {
      "cell_type": "code",
      "execution_count": null,
      "id": "5e686817",
      "metadata": {
        "id": "5e686817"
      },
      "outputs": [],
      "source": []
    }
  ],
  "metadata": {
    "kernelspec": {
      "display_name": "Python 3 (ipykernel)",
      "language": "python",
      "name": "python3"
    },
    "language_info": {
      "codemirror_mode": {
        "name": "ipython",
        "version": 3
      },
      "file_extension": ".py",
      "mimetype": "text/x-python",
      "name": "python",
      "nbconvert_exporter": "python",
      "pygments_lexer": "ipython3",
      "version": "3.9.16"
    },
    "vscode": {
      "interpreter": {
        "hash": "31f2aee4e71d21fbe5cf8b01ff0e069b9275f58929596ceb00d14d90e3e16cd6"
      }
    },
    "colab": {
      "provenance": [],
      "include_colab_link": true
    }
  },
  "nbformat": 4,
  "nbformat_minor": 5
}